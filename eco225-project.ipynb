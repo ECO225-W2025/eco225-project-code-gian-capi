{
 "cells": [
  {
   "cell_type": "code",
   "execution_count": 2,
   "metadata": {
    "scrolled": true
   },
   "outputs": [
    {
     "name": "stdout",
     "output_type": "stream",
     "text": [
      "              X             Y  FID  OBJECTID    NCESID  \\\n",
      "0 -8.136078e+06  5.055506e+06    1      1201  A0507274   \n",
      "1 -8.147300e+06  5.037067e+06    2      1202  A0500844   \n",
      "2 -8.197042e+06  5.018050e+06    3      1203  A0108054   \n",
      "3 -8.171504e+06  5.077291e+06    4      1204  A0507283   \n",
      "4 -8.197596e+06  5.017131e+06    5      1205  01612613   \n",
      "\n",
      "                               NAME                   ADDRESS        CITY  \\\n",
      "0                  A CHILD'S GARDEN           20 IVY BROOK RD     SHELTON   \n",
      "1  BRIDGEPORT INTERNATIONAL ACADEMY  285 LAFAYETTE ST STE 200  BRIDGEPORT   \n",
      "2                    CARMEL ACADMEY              270 LAKE AVE   GREENWICH   \n",
      "3                 COUNTRY KIDS CLUB           94 OLD STATE RD  BROOKFIELD   \n",
      "4                 EAGLE HILL SCHOOL           45 GLENVILLE RD   GREENWICH   \n",
      "\n",
      "  STATE   ZIP  ...           SOURCEDATE     VAL_METHOD             VAL_DATE  \\\n",
      "0    CT  6484  ...  2010/01/29 00:00:00        IMAGERY  2010/02/25 00:00:00   \n",
      "1    CT  6604  ...  2010/01/29 00:00:00  IMAGERY/OTHER  2010/02/23 00:00:00   \n",
      "2    CT  6830  ...  2010/01/29 00:00:00        IMAGERY  2010/03/05 00:00:00   \n",
      "3    CT  6804  ...  2010/01/29 00:00:00        GEOCODE  2010/02/25 00:00:00   \n",
      "4    CT  6831  ...  2010/01/29 00:00:00  IMAGERY/OTHER  2010/02/26 00:00:00   \n",
      "\n",
      "                                             WEBSITE  LEVEL_ ENROLLMENT  \\\n",
      "0  http://nces.ed.gov/GLOBALLOCATOR/sch_info_popu...       1          6   \n",
      "1  http://nces.ed.gov/GLOBALLOCATOR/sch_info_popu...       2         60   \n",
      "2  http://nces.ed.gov/GLOBALLOCATOR/sch_info_popu...       1        225   \n",
      "3  http://nces.ed.gov/GLOBALLOCATOR/sch_info_popu...       1         10   \n",
      "4  http://nces.ed.gov/GLOBALLOCATOR/sch_info_popu...       3        253   \n",
      "\n",
      "   START_GRAD END_GRADE  FT_TEACHER     SHELTER_ID  \n",
      "0           2         3           2  NOT AVAILABLE  \n",
      "1          14        17           8  NOT AVAILABLE  \n",
      "2           3        13          53  NOT AVAILABLE  \n",
      "3           2         3           1  NOT AVAILABLE  \n",
      "4           4        15          65  NOT AVAILABLE  \n",
      "\n",
      "[5 rows x 33 columns]\n"
     ]
    }
   ],
   "source": [
    "import pandas as pd\n",
    "\n",
    "priv = pd.read_csv('Private_Schools.csv')\n",
    "print(priv.head())"
   ]
  },
  {
   "cell_type": "code",
   "execution_count": 3,
   "metadata": {},
   "outputs": [
    {
     "name": "stdout",
     "output_type": "stream",
     "text": [
      "              X             Y  OBJECTID        NCESID  \\\n",
      "0 -9.844095e+06  5.230976e+06         1  170330000017   \n",
      "1 -9.007027e+06  4.195442e+06         2  370297001287   \n",
      "2 -9.580426e+06  4.792069e+06         3  180369000584   \n",
      "3 -1.243297e+07  3.927588e+06         4   40187003479   \n",
      "4 -1.243258e+07  3.924831e+06         5   40187003483   \n",
      "\n",
      "                                            NAME             ADDRESS  \\\n",
      "0                       ALDEN-HEBRON HIGH SCHOOL    9604 ILLINOIS ST   \n",
      "1                         WESTERLY HILLS ACADEMY     4420 DENVER AVE   \n",
      "2                    NORTHWOOD ELEMENTARY SCHOOL  965 GRIZZLY CUB DR   \n",
      "3  DR. GARY AND ANNETTE AUXIER ELEMENTARY SCHOOL  22700 S. POWER RD.   \n",
      "4                DR. CAMILLE CASTEEL HIGH SCHOOL  24901 S. POWER RD.   \n",
      "\n",
      "          CITY STATE    ZIP           ZIP4  ...     VAL_METHOD  \\\n",
      "0       HEBRON    IL  60034           9618  ...  IMAGERY/OTHER   \n",
      "1    CHARLOTTE    NC  28208           3699  ...  IMAGERY/OTHER   \n",
      "2     FRANKLIN    IN  46131           1364  ...  IMAGERY/OTHER   \n",
      "3  QUEEN CREEK    AZ  85298  NOT AVAILABLE  ...  IMAGERY/OTHER   \n",
      "4  QUEEN CREEK    AZ  85142  NOT AVAILABLE  ...  IMAGERY/OTHER   \n",
      "\n",
      "              VAL_DATE                                       WEBSITE  \\\n",
      "0  2010/08/27 00:00:00                                 NOT AVAILABLE   \n",
      "1  2016/08/22 00:00:00  http://schools.cms.k12.nc.us/westerlyhillsES   \n",
      "2  2010/08/02 00:00:00                                 NOT AVAILABLE   \n",
      "3  2018/10/24 00:00:00                                 NOT AVAILABLE   \n",
      "4  2018/10/24 00:00:00                                 NOT AVAILABLE   \n",
      "\n",
      "       LEVEL_ ENROLLMENT  ST_GRADE END_GRADE  DISTRICTID  FT_TEACHER  \\\n",
      "0        HIGH        112        09        12     1703300          11   \n",
      "1  ELEMENTARY        495        KG        08     3702970          45   \n",
      "2  ELEMENTARY        478        PK        04     1803690          25   \n",
      "3  ELEMENTARY        958        PK        06      401870          51   \n",
      "4        HIGH       2294        07        12      401870         115   \n",
      "\n",
      "      SHELTER_ID  \n",
      "0  NOT AVAILABLE  \n",
      "1  NOT AVAILABLE  \n",
      "2  NOT AVAILABLE  \n",
      "3  NOT AVAILABLE  \n",
      "4  NOT AVAILABLE  \n",
      "\n",
      "[5 rows x 33 columns]\n"
     ]
    }
   ],
   "source": [
    "pub = pd.read_csv('Public_Schools.csv')\n",
    "print(pub.head())"
   ]
  },
  {
   "cell_type": "code",
   "execution_count": 4,
   "metadata": {},
   "outputs": [
    {
     "name": "stdout",
     "output_type": "stream",
     "text": [
      "   brokered_by    status     price  bed  bath  acre_lot     street  \\\n",
      "0     103378.0  for_sale  105000.0  3.0   2.0      0.12  1962661.0   \n",
      "1      52707.0  for_sale   80000.0  4.0   2.0      0.08  1902874.0   \n",
      "2     103379.0  for_sale   67000.0  2.0   1.0      0.15  1404990.0   \n",
      "3      31239.0  for_sale  145000.0  4.0   2.0      0.10  1947675.0   \n",
      "4      34632.0  for_sale   65000.0  6.0   2.0      0.05   331151.0   \n",
      "\n",
      "         city        state  zip_code  house_size prev_sold_date  \n",
      "0    Adjuntas  Puerto Rico     601.0       920.0            NaN  \n",
      "1    Adjuntas  Puerto Rico     601.0      1527.0            NaN  \n",
      "2  Juana Diaz  Puerto Rico     795.0       748.0            NaN  \n",
      "3       Ponce  Puerto Rico     731.0      1800.0            NaN  \n",
      "4    Mayaguez  Puerto Rico     680.0         NaN            NaN  \n"
     ]
    }
   ],
   "source": [
    "re = pd.read_csv('realtor-data.zip.csv')\n",
    "print(re.head())"
   ]
  },
  {
   "cell_type": "code",
   "execution_count": 5,
   "metadata": {},
   "outputs": [
    {
     "name": "stdout",
     "output_type": "stream",
     "text": [
      "0    2010/01/29\n",
      "1    2010/01/29\n",
      "2    2010/01/29\n",
      "3    2010/01/29\n",
      "4    2010/01/29\n",
      "Name: SOURCEDATE, dtype: object\n",
      "0    2009/10/13\n",
      "1    2009/12/10\n",
      "2    2009/10/13\n",
      "3    2018/10/23\n",
      "4    2018/10/23\n",
      "Name: SOURCEDATE, dtype: object\n"
     ]
    }
   ],
   "source": [
    "priv['SOURCEDATE'] = pd.to_datetime(priv['SOURCEDATE']).dt.strftime('%Y/%m/%d')\n",
    "print(priv['SOURCEDATE'].head())\n",
    "\n",
    "pub['SOURCEDATE'] = pd.to_datetime(pub['SOURCEDATE']).dt.strftime('%Y/%m/%d')\n",
    "print(pub['SOURCEDATE'].head())"
   ]
  },
  {
   "cell_type": "code",
   "execution_count": 6,
   "metadata": {},
   "outputs": [
    {
     "name": "stdout",
     "output_type": "stream",
     "text": [
      "0    NaN\n",
      "1    NaN\n",
      "2    NaN\n",
      "3    NaN\n",
      "4    NaN\n",
      "Name: prev_sold_date, dtype: object\n"
     ]
    }
   ],
   "source": [
    "re['prev_sold_date'] = pd.to_datetime(re['prev_sold_date'], errors = 'coerce').dt.strftime('%Y/%m/%d')\n",
    "print(re['prev_sold_date'].head())"
   ]
  },
  {
   "cell_type": "code",
   "execution_count": 7,
   "metadata": {},
   "outputs": [
    {
     "name": "stdout",
     "output_type": "stream",
     "text": [
      "         brokered_by    STATUS     PRICE  bed  bath  acre_lot     street  \\\n",
      "0           103378.0  for_sale  105000.0  3.0   2.0      0.12  1962661.0   \n",
      "1            52707.0  for_sale   80000.0  4.0   2.0      0.08  1902874.0   \n",
      "2           103379.0  for_sale   67000.0  2.0   1.0      0.15  1404990.0   \n",
      "3            31239.0  for_sale  145000.0  4.0   2.0      0.10  1947675.0   \n",
      "4            34632.0  for_sale   65000.0  6.0   2.0      0.05   331151.0   \n",
      "...              ...       ...       ...  ...   ...       ...        ...   \n",
      "2226377      23009.0      sold  359900.0  4.0   2.0      0.33   353094.0   \n",
      "2226378      18208.0      sold  350000.0  3.0   2.0      0.10  1062149.0   \n",
      "2226379      76856.0      sold  440000.0  6.0   3.0      0.50   405677.0   \n",
      "2226380      53618.0      sold  179900.0  2.0   1.0      0.09   761379.0   \n",
      "2226381     108243.0      sold  580000.0  5.0   3.0      0.31   307704.0   \n",
      "\n",
      "               CITY        STATE      ZIP  house_size prev_sold_date  \n",
      "0          Adjuntas  Puerto Rico    601.0       920.0            NaN  \n",
      "1          Adjuntas  Puerto Rico    601.0      1527.0            NaN  \n",
      "2        Juana Diaz  Puerto Rico    795.0       748.0            NaN  \n",
      "3             Ponce  Puerto Rico    731.0      1800.0            NaN  \n",
      "4          Mayaguez  Puerto Rico    680.0         NaN            NaN  \n",
      "...             ...          ...      ...         ...            ...  \n",
      "2226377    Richland   Washington  99354.0      3600.0     2022/03/25  \n",
      "2226378    Richland   Washington  99354.0      1616.0     2022/03/25  \n",
      "2226379    Richland   Washington  99354.0      3200.0     2022/03/24  \n",
      "2226380    Richland   Washington  99354.0       933.0     2022/03/24  \n",
      "2226381    Richland   Washington  99354.0      3615.0     2022/03/23  \n",
      "\n",
      "[2226382 rows x 12 columns]\n"
     ]
    }
   ],
   "source": [
    "re.rename(columns = {'status':'STATUS', 'price':'PRICE', 'city':'CITY', 'state':'STATE', 'zip_code':'ZIP'}, inplace = True)\n",
    "print(re)"
   ]
  },
  {
   "cell_type": "code",
   "execution_count": 8,
   "metadata": {},
   "outputs": [
    {
     "name": "stdout",
     "output_type": "stream",
     "text": [
      "0    00601\n",
      "1    00601\n",
      "2    00795\n",
      "3    00731\n",
      "4    00680\n",
      "Name: ZIP, dtype: object\n"
     ]
    }
   ],
   "source": [
    "def clean_zip(value):\n",
    "    try:\n",
    "        return str(int(float(value))).zfill(5)\n",
    "    except (ValueError, TypeError):\n",
    "        return None\n",
    "\n",
    "re['ZIP'] = re['ZIP'].apply(clean_zip)\n",
    "print(re['ZIP'].head())"
   ]
  },
  {
   "cell_type": "code",
   "execution_count": 9,
   "metadata": {},
   "outputs": [
    {
     "name": "stdout",
     "output_type": "stream",
     "text": [
      "0    60034\n",
      "1    28208\n",
      "2    46131\n",
      "3    85298\n",
      "4    85142\n",
      "Name: ZIP, dtype: object\n"
     ]
    }
   ],
   "source": [
    "pub['ZIP'] = pub['ZIP'].apply(clean_zip)\n",
    "print(pub['ZIP'].head())"
   ]
  },
  {
   "cell_type": "code",
   "execution_count": 10,
   "metadata": {},
   "outputs": [
    {
     "name": "stdout",
     "output_type": "stream",
     "text": [
      "0    06484\n",
      "1    06604\n",
      "2    06830\n",
      "3    06804\n",
      "4    06831\n",
      "Name: ZIP, dtype: object\n"
     ]
    }
   ],
   "source": [
    "priv['ZIP'] = priv['ZIP'].apply(clean_zip)\n",
    "print(priv['ZIP'].head())"
   ]
  },
  {
   "cell_type": "code",
   "execution_count": 11,
   "metadata": {},
   "outputs": [
    {
     "name": "stdout",
     "output_type": "stream",
     "text": [
      "         POPULATION    ENROLLMENT    FT_TEACHER\n",
      "count  31064.000000  31064.000000  31064.000000\n",
      "mean     156.178341    142.387909     13.790433\n",
      "std      236.346831    218.895729     19.853510\n",
      "min        1.000000      1.000000      0.000000\n",
      "25%       23.000000     20.000000      3.000000\n",
      "50%       71.000000     63.000000      8.000000\n",
      "75%      199.000000    182.000000     16.000000\n",
      "max     6446.000000   5840.000000    606.000000\n"
     ]
    }
   ],
   "source": [
    "priv_summary_stats = priv[['POPULATION', 'ENROLLMENT', 'FT_TEACHER']].describe()\n",
    "print(priv_summary_stats)"
   ]
  },
  {
   "cell_type": "code",
   "execution_count": 12,
   "metadata": {},
   "outputs": [
    {
     "name": "stdout",
     "output_type": "stream",
     "text": [
      "         POPULATION    ENROLLMENT    FT_TEACHER\n",
      "count  31064.000000  31064.000000  31064.000000\n",
      "mean     156.178341    142.387909     13.790433\n",
      "std      236.346831    218.895729     19.853510\n",
      "min        1.000000      1.000000      0.000000\n",
      "25%       23.000000     20.000000      3.000000\n",
      "50%       71.000000     63.000000      8.000000\n",
      "75%      199.000000    182.000000     16.000000\n",
      "max     6446.000000   5840.000000    606.000000\n"
     ]
    }
   ],
   "source": [
    "pub_summary_stats = priv[['POPULATION', 'ENROLLMENT', 'FT_TEACHER']].describe()\n",
    "print(pub_summary_stats)"
   ]
  },
  {
   "cell_type": "code",
   "execution_count": 15,
   "metadata": {},
   "outputs": [
    {
     "name": "stdout",
     "output_type": "stream",
     "text": [
      "              PRICE    house_size\n",
      "count  2.224841e+06  1.657898e+06\n",
      "mean   5.241955e+05  2.714471e+03\n",
      "std    2.138893e+06  8.081635e+05\n",
      "min    0.000000e+00  4.000000e+00\n",
      "25%    1.650000e+05  1.300000e+03\n",
      "50%    3.250000e+05  1.760000e+03\n",
      "75%    5.500000e+05  2.413000e+03\n",
      "max    2.147484e+09  1.040400e+09\n"
     ]
    }
   ],
   "source": [
    "re_summary_stats = re[['PRICE', 'house_size']].describe()\n",
    "print(re_summary_stats)"
   ]
  },
  {
   "cell_type": "code",
   "execution_count": null,
   "metadata": {},
   "outputs": [],
   "source": []
  }
 ],
 "metadata": {
  "kernelspec": {
   "display_name": "Python 3",
   "language": "python",
   "name": "python3"
  },
  "language_info": {
   "codemirror_mode": {
    "name": "ipython",
    "version": 3
   },
   "file_extension": ".py",
   "mimetype": "text/x-python",
   "name": "python",
   "nbconvert_exporter": "python",
   "pygments_lexer": "ipython3",
   "version": "3.8.3"
  }
 },
 "nbformat": 4,
 "nbformat_minor": 4
}
